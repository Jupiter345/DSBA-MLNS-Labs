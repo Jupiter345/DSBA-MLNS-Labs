{
 "cells": [
  {
   "cell_type": "code",
   "execution_count": 287,
   "metadata": {},
   "outputs": [],
   "source": [
    "#!/usr/bin/env python3\n",
    "# -*- coding: utf-8 -*-\n",
    "\"\"\"\n",
    "Machine Learning in Network Science\n",
    "Lab 3: Network representation learning\n",
    "March 19, 2021\n",
    "\"\"\"\n",
    "%matplotlib inline\n",
    "from helper import *\n",
    "import os\n",
    "import networkx as nx\n",
    "from gensim.models import Word2Vec\n",
    "from node2vec import Node2Vec\n",
    "from scipy.sparse import *\n",
    "from scipy.stats.stats import pearsonr\n",
    "from sklearn.linear_model import LogisticRegression\n",
    "from sklearn.metrics import roc_auc_score, roc_curve, accuracy_score \n",
    "from sklearn.preprocessing import LabelBinarizer \n"
   ]
  },
  {
   "cell_type": "code",
   "execution_count": 322,
   "metadata": {},
   "outputs": [
    {
     "name": "stdout",
     "output_type": "stream",
     "text": [
      "The number of nodes: 34\n",
      "The number of edges: 78\n"
     ]
    }
   ],
   "source": [
    "# Read network files - Karate Club Network \n",
    "G = nx.read_gml(\"karate.gml\")\n",
    "\n",
    "print(\"The number of nodes: {}\".format(G.number_of_nodes()))\n",
    "print(\"The number of edges: {}\".format(G.number_of_edges()))\n",
    "\n",
    "# Get the node community labels and the number of communities\n",
    "node2comm, num_of_communities = get_node2community(g=G)"
   ]
  },
  {
   "cell_type": "markdown",
   "metadata": {},
   "source": [
    "### Part I: Network Representation Learning"
   ]
  },
  {
   "cell_type": "markdown",
   "metadata": {},
   "source": [
    "#### Exercise 1.1: Implementation of a random walking strategy"
   ]
  },
  {
   "cell_type": "code",
   "execution_count": 278,
   "metadata": {},
   "outputs": [],
   "source": [
    "def perform_random_walks(graph, N, L):\n",
    "    '''\n",
    "    :param graph: networkx graph\n",
    "    :param N: the number of walks for each node\n",
    "    :param L: the walk length\n",
    "    :return walks: the list of walks\n",
    "    '''\n",
    "    walks = []\n",
    "    \n",
    "    for node in graph.nodes():\n",
    "        for _ in range(N):\n",
    "            # Set the initial node\n",
    "            walk = [node]\n",
    "            while len(walk) < L:\n",
    "                # List all nodes the walk can get to at next step\n",
    "                nb_list = list(nx.neighbors(graph, walk[-1]))\n",
    "                # Uniformly choose the next node at random\n",
    "                nb = np.random.choice(nb_list, size=1)[0]\n",
    "                walk.append(nb)\n",
    "            walks.append(walk)\n",
    "    \n",
    "    np.random.shuffle(walks)\n",
    "            \n",
    "    return walks"
   ]
  },
  {
   "cell_type": "markdown",
   "metadata": {},
   "source": [
    "#### Exercise 1.2: Learning representations of nodes"
   ]
  },
  {
   "cell_type": "code",
   "execution_count": 279,
   "metadata": {},
   "outputs": [],
   "source": [
    "# Define parameters\n",
    "num_of_walks = 80\n",
    "walk_length = 10\n",
    "embedding_size = 128\n",
    "window_size = 10\n",
    "output_filename=\"./graph.embedding\"\n",
    "\n",
    "# Perform random walks\n",
    "walks = perform_random_walks(graph=G, N=num_of_walks, L=walk_length)\n",
    "# Learn representations of nodes\n",
    "model = Word2Vec(walks, size=embedding_size, sg=1, window=window_size, min_count=0, workers=3)\n",
    "# Save the embedding vectors\n",
    "model.wv.save_word2vec_format(output_filename)"
   ]
  },
  {
   "cell_type": "code",
   "execution_count": 280,
   "metadata": {},
   "outputs": [
    {
     "data": {
      "image/png": "[encoded data removed]",
      "text/plain": [
       "<Figure size 432x432 with 1 Axes>"
      ]
     },
     "metadata": {
      "needs_background": "light"
     },
     "output_type": "display_data"
    }
   ],
   "source": [
    "# Visualise the embeddings \n",
    "visualize(graph=G, node2embedding=model.wv)"
   ]
  },
  {
   "cell_type": "markdown",
   "metadata": {},
   "source": [
    "### Part II: Link Predicition"
   ]
  },
  {
   "cell_type": "code",
   "execution_count": 281,
   "metadata": {},
   "outputs": [],
   "source": [
    "# Functions seen in previous lab \n",
    "\n",
    "def generate_samples(graph, train_set_ratio):\n",
    "    \"\"\"\n",
    "    Graph pre-processing step required to perform supervised link prediction\n",
    "    Create training and test sets\n",
    "    \"\"\"\n",
    "        \n",
    "    # --- Step 0: The graph must be connected ---\n",
    "    if nx.is_connected(G) is not True:\n",
    "        raise ValueError(\"The graph contains more than one connected component!\")\n",
    "       \n",
    "    \n",
    "    # --- Step 1: Generate positive edge samples for testing set ---\n",
    "    residual_g = graph.copy()\n",
    "    test_pos_samples = []\n",
    "      \n",
    "    # Store the shuffled list of current edges of the graph\n",
    "    edges = list(residual_g.edges())\n",
    "    np.random.shuffle(edges)\n",
    "    \n",
    "    # Define number of positive test samples desired\n",
    "    test_set_size = int((1.0 - train_set_ratio) * graph.number_of_edges())\n",
    "    train_set_size = graph.number_of_edges() - test_set_size\n",
    "    num_of_pos_test_samples = 0\n",
    "    \n",
    "    # Remove random edges from the graph, leaving it connected\n",
    "    # Fill in the blanks\n",
    "    for edge in edges:\n",
    "        \n",
    "        # Remove the edge\n",
    "        residual_g.remove_edge(edge[0], edge[1])\n",
    "        \n",
    "        # Add the removed edge to the positive sample list if the network is still connected\n",
    "        if nx.is_connected(residual_g):\n",
    "            num_of_pos_test_samples += 1\n",
    "            test_pos_samples.append(edge)\n",
    "        # Otherwise, re-add the edge to the network\n",
    "        else: \n",
    "            residual_g.add_edge(edge[0], edge[1])\n",
    "        \n",
    "        # If we have collected enough number of edges for testing set, we can terminate the loop\n",
    "        if num_of_pos_test_samples == test_set_size:\n",
    "            break\n",
    "    \n",
    "    # Check if we have the desired number of positive samples for testing set \n",
    "    if num_of_pos_test_samples != test_set_size:\n",
    "        raise ValueError(\"Enough positive edge samples could not be found!\")\n",
    "\n",
    "        \n",
    "    # --- Step 2: Generate positive edge samples for training set ---\n",
    "    # The remaining edges are simply considered for positive samples of the training set\n",
    "    train_pos_samples = list(residual_g.edges())\n",
    "        \n",
    "        \n",
    "    # --- Step 3: Generate the negative samples for testing and training sets ---\n",
    "    # Fill in the blanks\n",
    "    non_edges = list(nx.non_edges(graph))\n",
    "    np.random.shuffle(non_edges)\n",
    "    \n",
    "    train_neg_samples = non_edges[:train_set_size] \n",
    "    test_neg_samples = non_edges[train_set_size:train_set_size + test_set_size]\n",
    "\n",
    "    \n",
    "    # --- Step 4: Combine sample lists and create corresponding labels ---\n",
    "    # For training set\n",
    "    train_samples = train_pos_samples + train_neg_samples\n",
    "    train_labels = [1 for _ in train_pos_samples] + [0 for _ in train_neg_samples]\n",
    "    # For testing set\n",
    "    test_samples = test_pos_samples + test_neg_samples\n",
    "    test_labels = [1 for _ in test_pos_samples] + [0 for _ in test_neg_samples]\n",
    "    \n",
    "    return residual_g, train_samples, train_labels, test_samples, test_labels\n",
    "\n",
    "\n",
    "def edge_prediction(node2embedding, train_samples, test_samples, train_labels, test_labels, feature_func=None):\n",
    "    \n",
    "    # --- Construct feature vectors for edges ---\n",
    "    if feature_func is None:\n",
    "        feature_func = lambda x,y: abs(x-y)\n",
    "    \n",
    "    # Fill in the blanks\n",
    "    train_features = [feature_func(node2embedding[edge[0]], node2embedding[edge[1]]) for edge in train_samples]\n",
    "    test_features = [feature_func(node2embedding[edge[0]], node2embedding[edge[1]]) for edge in test_samples]\n",
    "    \n",
    "    # --- Build the model and train it ---\n",
    "    # Fill in the blanks\n",
    "    clf = LogisticRegression()\n",
    "    clf.fit(train_features, train_labels)\n",
    "\n",
    "    train_preds = clf.predict_proba(train_features)[:, 1]\n",
    "    test_preds = clf.predict_proba(test_features)[:, 1]\n",
    "\n",
    "    # --- Compute Area Under the Receiver Operating Characteristic Curve (ROC AUC) from predictions ---\n",
    "    # Fill in the blanks\n",
    "    fpr, tpr, _ = roc_curve(test_labels, test_preds)\n",
    "    roc_auc = auc(fpr, tpr)\n",
    "    \n",
    "    plt.figure(figsize=(6,6))\n",
    "    plt.plot(fpr, tpr, color='darkred', label='ROC curve (area = %0.3f)' % roc_auc)\n",
    "    plt.plot([0, 1], [0, 1], color='lightgray', linestyle='--')\n",
    "    plt.xlim([0.0, 1.0])\n",
    "    plt.ylim([0.0, 1.05])\n",
    "    plt.xlabel('False Positive Rate')\n",
    "    plt.ylabel('True Positive Rate')\n",
    "    plt.title('Receiver Operating Characteristic Curve')\n",
    "    plt.legend(loc=\"lower right\")\n",
    "    plt.show()\n",
    "    \n",
    "    return roc_auc"
   ]
  },
  {
   "cell_type": "markdown",
   "metadata": {},
   "source": [
    "##### Exercise 2"
   ]
  },
  {
   "cell_type": "code",
   "execution_count": 282,
   "metadata": {
    "scrolled": true
   },
   "outputs": [
    {
     "data": {
      "image/png": "[encoded data removed]",
      "text/plain": [
       "<Figure size 432x432 with 1 Axes>"
      ]
     },
     "metadata": {
      "needs_background": "light"
     },
     "output_type": "display_data"
    },
    {
     "data": {
      "text/plain": [
       "0.9111111111111112"
      ]
     },
     "execution_count": 282,
     "metadata": {},
     "output_type": "execute_result"
    }
   ],
   "source": [
    "# Construct the training and testing sets\n",
    "residual_g, train_samples, train_labels, test_samples, test_labels = generate_samples(graph=G, train_set_ratio=0.8)\n",
    "\n",
    "# Perform random walks over the residual network\n",
    "num_of_walks, walk_length, window_size, embedding_size = (80, 10, 10, 128)\n",
    "residual_walks = perform_random_walks(graph=residual_g, N=num_of_walks, L=walk_length)\n",
    "\n",
    "# Learn representations of nodes\n",
    "model = Word2Vec(walks, size=embedding_size, sg=1, window=window_size, min_count=0, workers=3)\n",
    "\n",
    "# Perform the edge prediction and plot the ROC curve\n",
    "edge_prediction(model.wv, train_samples, test_samples, train_labels, test_labels)"
   ]
  },
  {
   "cell_type": "code",
   "execution_count": 323,
   "metadata": {
    "scrolled": false
   },
   "outputs": [
    {
     "name": "stderr",
     "output_type": "stream",
     "text": [
      "Computing transition probabilities: 100%|██████████| 34/34 [00:00<00:00, 4038.92it/s]\n"
     ]
    },
    {
     "data": {
      "image/png": "[encoded data removed]",
      "text/plain": [
       "<Figure size 432x432 with 1 Axes>"
      ]
     },
     "metadata": {
      "needs_background": "light"
     },
     "output_type": "display_data"
    },
    {
     "data": {
      "text/plain": [
       "0.7288888888888889"
      ]
     },
     "execution_count": 323,
     "metadata": {},
     "output_type": "execute_result"
    }
   ],
   "source": [
    "# Construct the training and testing sets\n",
    "_, train_samples, train_labels, test_samples, test_labels = generate_samples(graph=G, train_set_ratio=0.8)\n",
    "\n",
    "# Precompute probabilities and generate walks - **ON WINDOWS ONLY WORKS WITH workers=1**\n",
    "node2vec = Node2Vec(G, dimensions=64, walk_length=10, num_walks=150, workers=4, p=0.3, q=1)\n",
    "\n",
    "# Embed nodes\n",
    "model = node2vec.fit(window=10, min_count=1, batch_words=4)\n",
    "\n",
    "# Perform the edge prediction and plot the ROC curve\n",
    "edge_prediction(model.wv, train_samples, test_samples, train_labels, test_labels)"
   ]
  },
  {
   "cell_type": "markdown",
   "metadata": {},
   "source": [
    "### Part III: Node Classification"
   ]
  },
  {
   "cell_type": "markdown",
   "metadata": {},
   "source": [
    "#### Exercise 3"
   ]
  },
  {
   "cell_type": "code",
   "execution_count": 312,
   "metadata": {},
   "outputs": [
    {
     "name": "stdout",
     "output_type": "stream",
     "text": [
      "{'micro': 0.9588235294117646, 'macro': 0.9584524423804609}\n"
     ]
    }
   ],
   "source": [
    "# results = classification(graph=G, train_set_ratio=0.5, node2embedding=model.wv, number_of_shuffles=10)\n",
    "# print(results)"
   ]
  },
  {
   "cell_type": "code",
   "execution_count": 351,
   "metadata": {},
   "outputs": [
    {
     "data": {
      "text/plain": [
       "0.9285714285714286"
      ]
     },
     "execution_count": 351,
     "metadata": {},
     "output_type": "execute_result"
    }
   ],
   "source": [
    "# Fix params\n",
    "def node_classif(graph, node2embedding, train_set_ratio): \n",
    "\n",
    "    N = graph.number_of_nodes()\n",
    "\n",
    "    # Get the ground-truth labels and and the total number of labels\n",
    "    node2community, K = get_node2community(graph)\n",
    "\n",
    "    # Create feature and label datasets \n",
    "    x = np.asarray([node2embedding[node] for node in graph.nodes()])\n",
    "    #label_matrix = csr_matrix([[1 if k in node2community[node] else 0 for k in range(K)] for node in graph.nodes()])\n",
    "    #labels = scipy.sparse.csr_matrix.todense(label_matrix)\n",
    "    labels = np.array([[1 if k in node2community[node] else 0 for k in range(K)] for node in G.nodes()])\n",
    "\n",
    "    # Get the training size\n",
    "    train_set_size = int(train_set_ratio * N)        \n",
    "\n",
    "    # Shuffle the data\n",
    "    shuffled_features, shuffled_labels = shuffle(x, labels)\n",
    "\n",
    "    # Divide the data into the training and test sets\n",
    "    train_features = shuffled_features[0:train_set_size, :]\n",
    "    train_labels = shuffled_labels[0:train_set_size]\n",
    "\n",
    "    test_features = shuffled_features[train_set_size:, :]\n",
    "    test_labels = shuffled_labels[train_set_size:]\n",
    "\n",
    "    # Build the model and train it\n",
    "    clf = OneVsRestClassifier(LogisticRegression())\n",
    "    clf.fit(train_features, train_labels)\n",
    "\n",
    "    # Find the predictions, each node can have multiple labels\n",
    "    test_prob = np.asarray(clf.predict_proba(test_features))\n",
    "    y_pred = np.argmax(test_prob, axis=1)\n",
    "\n",
    "    # Convert to correect format to calculate accuracy\n",
    "    pred = np.zeros([test_prob.shape[0], labels.shape[-1]])\n",
    "    for i, row in enumerate(pred): \n",
    "        row[y_pred[i]] = 1\n",
    "\n",
    "    return accuracy_score(test_labels, pred)\n",
    "\n",
    "node_classif(graph, model.wv, 0.6)"
   ]
  },
  {
   "cell_type": "markdown",
   "metadata": {},
   "source": [
    "### Other datset"
   ]
  },
  {
   "cell_type": "code",
   "execution_count": 321,
   "metadata": {},
   "outputs": [],
   "source": [
    "# Import facebook dataset  \n",
    "fb_edges = pd.read_csv('musae_facebook_edges.csv')\n",
    "fb_edges['id_1'], fb_edges['id_2'] = fb_edges.id_1.astype(str), fb_edges.id_2.astype(str)\n",
    "graph = nx.from_pandas_edgelist(fb_edges, source='id_1', target='id_2', create_using=nx.Graph())\n",
    "\n",
    "# Import and process labels \n",
    "fb_target = pd.read_csv('musae_facebook_target.csv')\n",
    "label_names = list(fb_target['page_type'].unique())\n",
    "categorical_labels = np.array(pd.factorize(fb_target.page_type)[0])\n",
    "\n",
    "# One hot encoding of categorical variable\n",
    "label_binarizer = LabelBinarizer() \n",
    "labels = label_binarizer.fit_transform( fb_target['page_type']) "
   ]
  },
  {
   "cell_type": "code",
   "execution_count": null,
   "metadata": {},
   "outputs": [],
   "source": [
    "# Precompute probabilities and generate walks - **ON WINDOWS ONLY WORKS WITH workers=1**\n",
    "node2vec = Node2Vec(graph, dimensions=64, walk_length=10, num_walks=150, workers=4, p=0.3, q=1)\n",
    "\n",
    "# Learn node embeddings\n",
    "model = node2vec.fit(window=10, min_count=1, batch_words=4)"
   ]
  },
  {
   "cell_type": "code",
   "execution_count": 341,
   "metadata": {},
   "outputs": [
    {
     "data": {
      "text/plain": [
       "1.0"
      ]
     },
     "execution_count": 341,
     "metadata": {},
     "output_type": "execute_result"
    }
   ],
   "source": [
    "# Node classification on other dataset\n",
    "train_set_ratio=0.7\n",
    "labels = scipy.sparse.csr_matrix.todense(label_matrix)\n",
    "    \n",
    "N = graph.number_of_nodes()\n",
    "x = np.asarray([node2embedding[node] for node in graph.nodes()])\n",
    "\n",
    "# Get the training size\n",
    "train_set_size = int(train_set_ratio * N)        \n",
    "\n",
    "# Shuffle the data\n",
    "shuffled_features, shuffled_labels = shuffle(x, labels)\n",
    "\n",
    "# Divide the data into the training and test sets\n",
    "train_features = shuffled_features[0:train_set_size, :]\n",
    "train_labels = shuffled_labels[0:train_set_size]\n",
    "\n",
    "test_features = shuffled_features[train_set_size:, :]\n",
    "test_labels = shuffled_labels[train_set_size:]\n",
    "\n",
    "# Build the model and train it\n",
    "clf = OneVsRestClassifier(LogisticRegression())\n",
    "clf.fit(train_features, train_labels)\n",
    "\n",
    "# Find the predictions, each node can have multiple labels\n",
    "test_prob = np.asarray(clf.predict_proba(test_features))\n",
    "y_pred = np.argmax(test_prob, axis=1)\n",
    "\n",
    "pred = np.zeros([test_prob.shape[0], labels.shape[-1]])\n",
    "for i, row in enumerate(pred): \n",
    "    row[y_pred[i]] = 1\n",
    "    \n",
    "accuracy_score(test_labels, pred)"
   ]
  },
  {
   "cell_type": "code",
   "execution_count": null,
   "metadata": {},
   "outputs": [],
   "source": []
  }
 ],
 "metadata": {
  "kernelspec": {
   "display_name": "Python 3",
   "language": "python",
   "name": "python3"
  },
  "language_info": {
   "codemirror_mode": {
    "name": "ipython",
    "version": 3
   },
   "file_extension": ".py",
   "mimetype": "text/x-python",
   "name": "python",
   "nbconvert_exporter": "python",
   "pygments_lexer": "ipython3",
   "version": "3.7.6"
  }
 },
 "nbformat": 4,
 "nbformat_minor": 2
}
