{
 "cells": [
  {
   "cell_type": "code",
   "execution_count": null,
   "metadata": {},
   "outputs": [],
   "source": [
    "\"\"\"\n",
    "Machine Learning in Network Science\n",
    "Lab 6: Propagation on Graphs and Influence Maximization\n",
    "\"\"\"\n",
    "%matplotlib notebook\n",
    "import time\n",
    "import numpy as np\n",
    "import networkx as nx\n",
    "import community\n",
    "from scipy.linalg import eigh\n",
    "import matplotlib.pyplot as plt\n",
    "import ndlib.models.ModelConfig as mc\n",
    "import ndlib.models.epidemics as si\n",
    "from ndlib.models.epidemics import ThresholdModel\n",
    "from ndlib.models.epidemics import IndependentCascadesModel\n",
    "from ndlib.viz.mpl.DiffusionTrend import DiffusionTrend\n",
    "from bokeh.io import output_notebook, show\n",
    "from helper import *\n",
    "\n",
    "# Read the edgelist of the NetScience network\n",
    "G = nx.read_edgelist(\"./NetScience.edgelist\", comments='#', delimiter='\\t')\n",
    "# Get the largest connected component of the network\n",
    "G = G.subgraph(max(nx.connected_components(G), key=len))"
   ]
  },
  {
   "cell_type": "markdown",
   "metadata": {},
   "source": [
    "### Part I: Susceptible-Infected-Recovered (SIR) Model"
   ]
  },
  {
   "cell_type": "markdown",
   "metadata": {},
   "source": [
    "##### Exercise 1: Simulation of the SIR Model"
   ]
  },
  {
   "cell_type": "code",
   "execution_count": null,
   "metadata": {},
   "outputs": [],
   "source": [
    "### Exercise 1.1\n",
    "# Simulation of SIR Model\n",
    "def SIR(graph, beta, gamma, seed_set):\n",
    "    \"\"\"\n",
    "    The model performing linear threshold simulation\n",
    "    \"\"\"\n",
    "    # Model selection\n",
    "    model = si.SIRModel(graph)\n",
    "    config = mc.Configuration()\n",
    "    \n",
    "    # Model configuration\n",
    "    config.add_model_parameter('beta', beta)\n",
    "    config.add_model_parameter('gamma', gamma)\n",
    "    config.add_model_initial_configuration(\"Infected\", seed_set)\n",
    "    \n",
    "    #---------- Run the simulation\n",
    "    model.set_initial_status(config)\n",
    "    return model\n",
    "   \n",
    "# Number of steps/iterations of the epidemic progression\n",
    "sir_num_steps = \n",
    "# Number of nodes in the seed set\n",
    "sir_seed_set_size = \n",
    "# Determine the seed set\n",
    "sir_seed_set = \n",
    "\n",
    "# Determine the model parameters\n",
    "sir_gamma = \n",
    "eigval, eigvec = \n",
    "sir_beta = \n",
    "\n",
    "# Run the model\n",
    "sir_model = SIR(G, sir_beta, sir_gamma, sir_seed_set)\n",
    "sir_iterations = sir_model.iteration_bunch(bunch_size=sir_num_steps)\n",
    "\n",
    "\n",
    "# Get the number of susceptible(0), inflected(1) and the recovered(2) nodes in the last step\n",
    "print(sir_iterations[-1][\"node_count\"])"
   ]
  },
  {
   "cell_type": "code",
   "execution_count": null,
   "metadata": {},
   "outputs": [],
   "source": [
    "### Exercise 1.2\n",
    "# Plot the progression of the number of susceptible, inflected and the recovered nodes\n",
    "sir_trends = sir_model.build_trends(sir_iterations)\n",
    "plt.figure()\n",
    "viz = DiffusionTrend(sir_model, sir_trends)\n",
    "viz.plot()"
   ]
  },
  {
   "cell_type": "code",
   "execution_count": null,
   "metadata": {},
   "outputs": [],
   "source": [
    "### Exercise 1.3\n",
    "# Visualization\n",
    "visualize_status(graph=G, iterations=sir_iterations, t=5, node_size=20)"
   ]
  },
  {
   "cell_type": "markdown",
   "metadata": {},
   "source": [
    "### Part II: Linear Threshold and Independent Cascade Models"
   ]
  },
  {
   "cell_type": "markdown",
   "metadata": {},
   "source": [
    "#### Exercise 2: Linear Threshold Mode"
   ]
  },
  {
   "cell_type": "code",
   "execution_count": null,
   "metadata": {},
   "outputs": [],
   "source": [
    "# Exercise 2.1\n",
    "def linear_threshold(graph, threshold, seed_set):\n",
    "    \"\"\"\n",
    "    The model performing linear threshold simulation\n",
    "    \"\"\"\n",
    "    model = ThresholdModel(graph)\n",
    "    config = mc.Configuration()\n",
    "    \n",
    "    # Model configuration\n",
    "    for node in graph.nodes():\n",
    "        config.add_node_configuration(\"threshold\", node, threshold)\n",
    "    config.add_model_initial_configuration(\"Infected\",seed_set)\n",
    "    \n",
    "    # Set the all configuations\n",
    "    model.set_initial_status(config)\n",
    "    return model\n",
    "\n",
    "# Number of steps/iterations\n",
    "lt_num_steps =\n",
    "# Number of nodes in the seed set\n",
    "lt_seed_set_size = \n",
    "# Determine the seed set\n",
    "lt_seed_set = \n",
    "# Determine the model parameter\n",
    "lt_threshold = \n",
    "\n",
    "\n",
    "# Run the model\n",
    "lt_model = linear_threshold(graph=G, threshold=lt_threshold, seed_set=lt_seed_set)\n",
    "lt_iterations = lt_model.iteration_bunch(lt_num_steps)\n",
    "\n",
    "\n",
    "# Get the number of susceptible, inflected and the recovered nodes in the last step\n",
    "print(lt_iterations[-1][\"node_count\"])"
   ]
  },
  {
   "cell_type": "code",
   "execution_count": null,
   "metadata": {},
   "outputs": [],
   "source": [
    "### Exercise 2.2\n",
    "# Plot the progression of the number of susceptible, inflected nodes\n",
    "lt_trends = lt_model.build_trends(lt_iterations)\n",
    "plt.figure()\n",
    "viz = DiffusionTrend(lt_model, lt_trends)\n",
    "viz.plot()"
   ]
  },
  {
   "cell_type": "code",
   "execution_count": null,
   "metadata": {},
   "outputs": [],
   "source": [
    "### Exercise 2.3\n",
    "\n",
    "# Comment"
   ]
  },
  {
   "cell_type": "markdown",
   "metadata": {},
   "source": [
    "#### Exercise 3: Independent Cascade Mode"
   ]
  },
  {
   "cell_type": "code",
   "execution_count": null,
   "metadata": {},
   "outputs": [],
   "source": [
    "### Exercise 3.1\n",
    "\n",
    "def independent_cascade(graph, threshold, seed_set):\n",
    "    \"\"\"\n",
    "    The model performing independent cascade simulation\n",
    "    \"\"\"\n",
    "    # Model selection\n",
    "    model = IndependentCascadesModel(graph)\n",
    "    \n",
    "    # Model configuration\n",
    "    config = mc.Configuration()\n",
    "    ## Set edge parameters\n",
    "    for edge in G.edges():\n",
    "        config.add_edge_configuration(\"threshold\", edge, threshold)        \n",
    "    ## Set the initial infected nodes\n",
    "    config.add_model_initial_configuration(\"Infected\", seed_set)\n",
    "    \n",
    "    # Set the all configuations\n",
    "    model.set_initial_status(config)\n",
    "    return model\n",
    "    \n",
    "\n",
    "# Number of steps/iterations\n",
    "ic_num_steps =\n",
    "# Number of nodes in the seed set\n",
    "ic_seed_set_size =\n",
    "# Determine the seed set\n",
    "ic_seed_set = \n",
    "# Determine the model parameter\n",
    "ic_threshold =\n",
    "\n",
    "\n",
    "# Run the model\n",
    "ic_model = independent_cascade(graph=G, threshold=ic_threshold, seed_set=ic_seed_set)\n",
    "ic_iterations = ic_model.iteration_bunch(ic_num_steps)\n",
    "\n",
    "\n",
    "# Get the number of susceptible, inflected and the recovered nodes \n",
    "# in the last step\n",
    "print(ic_iterations[-1][\"node_count\"])"
   ]
  },
  {
   "cell_type": "code",
   "execution_count": null,
   "metadata": {},
   "outputs": [],
   "source": [
    "### Exercise 3.2\n",
    "#_Plot the progression of the number of susceptible, inflected and \n",
    "# the recovered nodes \n",
    "ic_trends = ic_model.build_trends(ic_iterations)\n",
    "plt.figure()\n",
    "viz = DiffusionTrend(ic_model, ic_trends)\n",
    "viz.plot()"
   ]
  },
  {
   "cell_type": "code",
   "execution_count": null,
   "metadata": {},
   "outputs": [],
   "source": [
    "### Exercise 3.3\n",
    "ic_thresholds = [0.1, 0.2, 0.3, 0.4, 0.5, 0.6, 0.7, 0.8, 0.9]\n",
    "for ic_thres in ic_thresholds:\n",
    "    # Run the model\n",
    "    ic_model = independent_cascade(graph=G, threshold=ic_thres, seed_set=ic_seed_set)\n",
    "    ic_iterations = ic_model.iteration_bunch(ic_num_steps)\n",
    "    \n",
    "    print(ic_iterations[-1][\"node_count\"])"
   ]
  },
  {
   "cell_type": "code",
   "execution_count": null,
   "metadata": {},
   "outputs": [],
   "source": [
    "### Exercise 3.4\n",
    "\n",
    "# Comment"
   ]
  },
  {
   "cell_type": "markdown",
   "metadata": {},
   "source": [
    "#### Exercise 4: Model Comparison"
   ]
  },
  {
   "cell_type": "code",
   "execution_count": null,
   "metadata": {},
   "outputs": [],
   "source": [
    "### Exercise 4.1\n",
    "sir_infected_count = []\n",
    "lt_infected_count = []\n",
    "ic_infected_count = []\n",
    "\n",
    "plt.figure()\n",
    "plt.xlabel(\"Number of iterations\")\n",
    "plt.ylabel(\"Number of inflected nodes\")\n",
    "line1, = plt.plot(sir_infected_count, label=\"SIR\")\n",
    "line2, = plt.plot(lt_infected_count, label=\"Linear Threshold\")\n",
    "line3, = plt.plot(ic_infected_count, label=\"Independent Cascade\")\n",
    "plt.legend(handles=[line1, line2, line3])\n",
    "plt.show()"
   ]
  },
  {
   "cell_type": "code",
   "execution_count": null,
   "metadata": {},
   "outputs": [],
   "source": [
    "### Exercise 4.2\n",
    "\n",
    "# Comments\n"
   ]
  },
  {
   "cell_type": "markdown",
   "metadata": {},
   "source": [
    "### Part III: Detection of Influential Spreaders"
   ]
  },
  {
   "cell_type": "markdown",
   "metadata": {},
   "source": [
    "#### Exercise 5: The Effect of Seed Sets"
   ]
  },
  {
   "cell_type": "code",
   "execution_count": null,
   "metadata": {},
   "outputs": [],
   "source": [
    "# Exercise 5.1 - 5.4\n",
    "\n",
    "\n",
    "# Number of steps/iterations\n",
    "num_steps = \n",
    "# Number of nodes in the seed set\n",
    "seed_set_size = \n",
    "\n",
    "\n",
    "\n",
    "\n",
    "\n",
    "plt.figure()\n",
    "line1, = plt.plot(range(num_steps), degree_inflected_count, label=\"Degree Centrality\")\n",
    "line2, = plt.plot(range(num_steps), pagerank_inflected_count, label=\"Pagerank\")\n",
    "line3, = plt.plot(range(num_steps), kcore_inflected_count, label=\"k-core\")\n",
    "line4, = plt.plot(range(num_steps), nbkcore_inflected_count, label=\"nb-coreness\")\n",
    "plt.legend(handles=[line1, line2, line3, line4])\n",
    "plt.ylabel(\"Number of inflected nodes\")\n",
    "plt.xlabel(\"Number of iterations\")\n",
    "plt.show()"
   ]
  },
  {
   "cell_type": "markdown",
   "metadata": {},
   "source": [
    "#### Exercise 6: Effect of Community Structure in Information Propagation"
   ]
  },
  {
   "cell_type": "code",
   "execution_count": null,
   "metadata": {},
   "outputs": [],
   "source": [
    "### Exercise 6\n",
    "\n",
    "# Construct a random graph according to the SBM\n",
    "sizes = [340, 360, 300]\n",
    "p = [[0.85, 0.01, 0.01], [0.01, 0.85, 0.01], [0.01, 0.01, 0.85]]\n",
    "sbm_graph = stochastic_block_model(sizes=sizes, matrix_p=p)\n",
    "\n",
    "# Number of steps/iterations\n",
    "sbm_sir_num_steps = \n",
    "# Number of nodes in the seed set\n",
    "sbm_sir_seed_set_size =\n",
    "sbm_sir_gamma = \n",
    "sbm_eigval, _ = \n",
    "sbm_sir_beta = "
   ]
  },
  {
   "cell_type": "code",
   "execution_count": null,
   "metadata": {},
   "outputs": [],
   "source": [
    "### Exercise 6.1\n",
    "\n",
    "\n",
    "sbm_random_sir_model = \n",
    "sbm_random_sir_iterations = \n",
    "sbm_random_sir_trends = sbm_random_sir_model.build_trends(sbm_random_sir_iterations)\n",
    "plt.figure()\n",
    "viz = DiffusionTrend(sbm_random_sir_model, sbm_random_sir_trends)\n",
    "viz.plot()"
   ]
  },
  {
   "cell_type": "code",
   "execution_count": null,
   "metadata": {},
   "outputs": [],
   "source": [
    "### Exercise 6.2\n",
    "\n",
    "# Find the communities\n",
    "node2comm = community.best_partition(sbm_graph)\n",
    "# Find the number of communities\n",
    "num_of_communities = max(list(node2comm.values()))+1\n",
    "\n",
    "\n",
    " \n",
    "    \n",
    "sbm_equal_sir_model = \n",
    "sbm_equal_sir_iterations = \n",
    "sbm_equal_sir_trends = sbm_equal_sir_model.build_trends(sbm_equal_sir_iterations)\n",
    "plt.figure()\n",
    "viz = DiffusionTrend(sbm_equal_sir_model, sbm_equal_sir_trends)\n",
    "viz.plot()"
   ]
  },
  {
   "cell_type": "code",
   "execution_count": null,
   "metadata": {},
   "outputs": [],
   "source": [
    "### Exercise 6.3\n",
    "\n",
    "G_sir_num_steps =\n",
    "# Number of nodes in the seed set\n",
    "G_sir_seed_set_size = \n",
    "G_sir_gamma = \n",
    "G_eigval, _ = \n",
    "G_sir_beta = \n",
    "\n",
    "\n",
    "# Find the communities\n",
    "node2comm = community.best_partition(G)\n",
    "# Find the number of communities\n",
    "num_of_communities = max(node2comm.values())+1\n",
    "print(\"Number of communities: {}\".format(num_of_communities))\n",
    "\n",
    "# Get equal number nodes from each community\n",
    "G_equal_sir_seed_set = [] \n",
    "for k in range(num_of_communities):\n",
    "    comm_nodes = [(node, G.degree(node)) for node in node2comm if node2comm[node]==k]\n",
    "    sorted_list = sorted(comm_nodes, key=lambda x: x[1], reverse=True)\n",
    "    chosen = [node for node, value in sorted_list[:int(G_sir_seed_set_size/num_of_communities)]]\n",
    "    G_equal_sir_seed_set.extend(chosen)\n",
    " \n",
    "    \n",
    "G_equal_sir_model = \n",
    "G_equal_sir_iterations = \n",
    "G_equal_sir_trends = G_equal_sir_model.build_trends(G_equal_sir_iterations)\n",
    "plt.figure()\n",
    "viz = DiffusionTrend(G_equal_sir_model, G_equal_sir_trends)\n",
    "viz.plot()"
   ]
  },
  {
   "cell_type": "markdown",
   "metadata": {},
   "source": [
    "### Part IV: Influence Maximization"
   ]
  },
  {
   "cell_type": "code",
   "execution_count": null,
   "metadata": {},
   "outputs": [],
   "source": [
    "def independent_cascade(graph, threshold, seed_set):\n",
    "    \"\"\"\n",
    "    The model performing independent cascade simulation\n",
    "    \"\"\"\n",
    "    # Model selection\n",
    "    model = IndependentCascadesModel(graph)\n",
    "    \n",
    "    # Model configuration\n",
    "    config = mc.Configuration()\n",
    "    ## Set edge parameters\n",
    "    for edge in G.edges():\n",
    "        config.add_edge_configuration(\"threshold\", edge, threshold)        \n",
    "    ## Set the initial infected nodes\n",
    "    config.add_model_initial_configuration(\"Infected\", seed_set)\n",
    "    \n",
    "    # Set the all configuations\n",
    "    model.set_initial_status(config)\n",
    "    return model\n",
    "    \n",
    "def simulate_ic_model(graph, ic_threshold=0.5, ic_num_steps=50, ic_seed_set=None):\n",
    "   \n",
    "    if ic_seed_set is None:\n",
    "        raise ValueError(\"Please set the seed set!\")\n",
    "    \n",
    "    # Run the model\n",
    "    ic_model = independent_cascade(graph=graph, threshold=ic_threshold, seed_set=ic_seed_set)\n",
    "    ic_iterations = ic_model.iteration_bunch(ic_num_steps)\n",
    "\n",
    "    # Get the number of inflected nodes in the last step\n",
    "    return int(ic_iterations[-1][\"node_count\"][2])"
   ]
  },
  {
   "cell_type": "markdown",
   "metadata": {},
   "source": [
    "#### Exercise 7: Implementation of the Greedy Algorithm"
   ]
  },
  {
   "cell_type": "code",
   "execution_count": null,
   "metadata": {},
   "outputs": [],
   "source": [
    "# Exercise 7.1\n",
    "def greedy_algorithm(graph, k, repetition, ic_threshold, ic_num_steps):\n",
    "    '''\n",
    "    :param graph: given graph\n",
    "    :param k: seed set size\n",
    "    :param repetition: the number of times to perform the simulation\n",
    "    :param ic_threshold: threshold value for independent cascade model\n",
    "    :param ic_num_steps: number of steps for independent cascade model\n",
    "    :return seed_set: a list containing k-nodes\n",
    "    '''\n",
    "\n",
    "    \n",
    "    \n",
    "        \n",
    "    return seed_set"
   ]
  },
  {
   "cell_type": "code",
   "execution_count": null,
   "metadata": {},
   "outputs": [],
   "source": [
    "# Exercise 7.2 - 7.3\n",
    "initial_time = time.time()\n",
    "\n",
    "seed_set_size = \n",
    "repetition = \n",
    "ic_threshold = \n",
    "ic_num_steps =\n",
    "seed_set = greedy_algorithm(graph=G, k=seed_set_size, repetition=repetition, \n",
    "                            ic_threshold=ic_threshold, ic_num_steps=ic_num_steps)  \n",
    "\n",
    "print(\"Seed set\", seed_set)\n",
    "print(\"Elapsed time: {}\".format(time.time()-initial_time))"
   ]
  },
  {
   "cell_type": "markdown",
   "metadata": {},
   "source": [
    "#### Exercise 8: Visualization and comparison"
   ]
  },
  {
   "cell_type": "code",
   "execution_count": null,
   "metadata": {},
   "outputs": [],
   "source": [
    "# Exercise 8.1\n",
    "def visualize_seedsets(graph, blue_seed_set, red_seed_set, node_size=30):\n",
    "    '''\n",
    "    :param graph:\n",
    "    :param blue_seed_set: the list of nodes\n",
    "    :param red_seed_set: the list of nodes\n",
    "    :param node_size: size of the nodes\n",
    "    '''\n",
    "        \n",
    "    # Find the intersection of the lists\n",
    "    inter_set = \n",
    "    \n",
    "    print(\"Blue seed set: \", blue_seed_set)\n",
    "    print(\"Red seed set: \", red_seed_set)\n",
    "    print(\"Intersection set: \", inter_set)\n",
    "    \n",
    "    \n",
    "    pos = nx.spring_layout(graph)\n",
    "    plt.figure()\n",
    "    nx.draw_networkx_edges(graph, pos, alpha=0.2)\n",
    "    nx.draw_networkx_nodes(graph, pos, node_size=node_size, node_color='k', alpha=0.3)\n",
    "    nx.draw_networkx_nodes(graph, pos, nodelist=red_seed_set, node_color='r', alpha=0.5, \n",
    "                                with_labels=False, node_size=node_size)\n",
    "    nx.draw_networkx_nodes(graph, pos, nodelist=blue_seed_set, node_color='b', alpha=0.5, \n",
    "                                with_labels=False, node_size=node_size)\n",
    "    nx.draw_networkx_nodes(graph, pos, nodelist=inter_set, node_color='g', alpha=1, \n",
    "                                with_labels=False, node_size=node_size)\n",
    "    \n",
    "\n",
    "    plt.axis('off')\n",
    "    plt.show()"
   ]
  },
  {
   "cell_type": "code",
   "execution_count": null,
   "metadata": {},
   "outputs": [],
   "source": [
    "# Exericese 8.2\n",
    "k =   # seed set size\n",
    "\n",
    "degree_seed_set = \n",
    "\n",
    "\n",
    "kcore_seed_set = \n",
    "\n",
    "\n",
    "# Exericese 8.3\n",
    "k =  # seed set size\n",
    "greedy_set = greedy_algorithm(graph=G, k=k, repetition=, ic_threshold=, ic_num_steps=)\n",
    "\n",
    "# Exercise 8.2-8.3\n",
    "blue_seed_set = \n",
    "red_seed_set =  \n",
    "   \n",
    "visualize_seedsets(graph=G, blue_seed_set=blue_seed_set, red_seed_set=red_seed_set, node_size=30)"
   ]
  },
  {
   "cell_type": "code",
   "execution_count": null,
   "metadata": {},
   "outputs": [],
   "source": [
    "# Exercise 8.4\n",
    "\n",
    "\n",
    "\n",
    "degree_counts = []\n",
    "kcore_counts = []\n",
    "greedy_counts = []\n",
    "    \n",
    "\n",
    "\n",
    "plt.figure()\n",
    "plt.plot(k_values, degree_counts, label=\"Degree\")\n",
    "plt.plot(k_values, kcore_counts, label=\"K-Core\")\n",
    "plt.plot(k_values, greedy_counts, label=\"Greedy\")\n",
    "plt.legend(loc=\"lower right\")\n",
    "plt.show()"
   ]
  },
  {
   "cell_type": "code",
   "execution_count": null,
   "metadata": {},
   "outputs": [],
   "source": []
  }
 ],
 "metadata": {
  "kernelspec": {
   "display_name": "Python 3",
   "language": "python",
   "name": "python3"
  },
  "language_info": {
   "codemirror_mode": {
    "name": "ipython",
    "version": 3
   },
   "file_extension": ".py",
   "mimetype": "text/x-python",
   "name": "python",
   "nbconvert_exporter": "python",
   "pygments_lexer": "ipython3",
   "version": "3.7.10"
  }
 },
 "nbformat": 4,
 "nbformat_minor": 2
}
